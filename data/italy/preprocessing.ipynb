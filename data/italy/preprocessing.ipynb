{
 "cells": [
  {
   "cell_type": "code",
   "execution_count": 1,
   "id": "d28304d2",
   "metadata": {},
   "outputs": [],
   "source": [
    "import pandas as pd"
   ]
  },
  {
   "cell_type": "code",
   "execution_count": 2,
   "id": "ca490c41",
   "metadata": {},
   "outputs": [],
   "source": [
    "crime = ['burglary', 'theft']\n",
    "years = range(2012, 2015 + 1)\n",
    "\n",
    "def get_data_crime(crime_type, year=2013):\n",
    "    df_crime = pd.read_csv(\"./raw/crime.tar.gz\", encoding=\"ISO-8859-1\")\n",
    "    del df_crime['Data type']\n",
    "    del df_crime['Reference period of crime']\n",
    "    del df_crime['Known offender identity']\n",
    "    columns = list(df_crime.columns)\n",
    "    columns[3] = 'count'\n",
    "    df_crime.columns = columns\n",
    "    df_crime = df_crime[\n",
    "        (df_crime['Type of crime'].isin(crime_type)) & (df_crime['Select time'] == year)][[\"Territory\", \"count\"]]\n",
    "    return df_crime.groupby(\"Territory\").sum()\n",
    "\n",
    "def get_population(year):\n",
    "    return list(get_population_(year)['population'])\n",
    "\n",
    "def get_population_(year=2013):\n",
    "    df = pd.read_csv(\"./raw/population.tar.gz\", encoding=\"ISO-8859-1\")\n",
    "    columns = list(df.columns)\n",
    "    columns[6] = 'population'\n",
    "    df.columns = columns\n",
    "    return df[(df['Marital status'] == 'total') &\n",
    "              (df['Age'] == 'total') &\n",
    "              (df['Gender'] == 'total') &\n",
    "              (df['Select time'] == year)][[\"Territory\", \"population\"]]\n",
    "\n",
    "def get_population_and_crime(crime_type, year):\n",
    "    crime_label = {'theft': [\"pickpocketing\", \"moped theft\", \"theft from vehicle\", \"theft of art objets\",\n",
    "                             \"theft of cargo trucks carrying freights\", \"thefts\"],\n",
    "                   'burglary': [\"burglary\"]}\n",
    "    df = get_population_(year)\n",
    "    df = df.set_index('Territory')\n",
    "    df['crime'] = get_data_crime(crime_label[crime_type], year)\n",
    "    df = df.reset_index()\n",
    "    df.columns = [\"region\", \"population\", \"crime\"]\n",
    "    return df"
   ]
  },
  {
   "cell_type": "code",
   "execution_count": 3,
   "id": "62accef9",
   "metadata": {},
   "outputs": [],
   "source": [
    "df_theft = get_population_and_crime(\"theft\", 2014)\n",
    "df_burglary = get_population_and_crime(\"burglary\", 2014)"
   ]
  },
  {
   "cell_type": "code",
   "execution_count": 4,
   "id": "41e74c8c",
   "metadata": {},
   "outputs": [
    {
     "data": {
      "text/html": [
       "<div>\n",
       "<style scoped>\n",
       "    .dataframe tbody tr th:only-of-type {\n",
       "        vertical-align: middle;\n",
       "    }\n",
       "\n",
       "    .dataframe tbody tr th {\n",
       "        vertical-align: top;\n",
       "    }\n",
       "\n",
       "    .dataframe thead th {\n",
       "        text-align: right;\n",
       "    }\n",
       "</style>\n",
       "<table border=\"1\" class=\"dataframe\">\n",
       "  <thead>\n",
       "    <tr style=\"text-align: right;\">\n",
       "      <th></th>\n",
       "      <th>region</th>\n",
       "      <th>population</th>\n",
       "      <th>crime</th>\n",
       "    </tr>\n",
       "  </thead>\n",
       "  <tbody>\n",
       "    <tr>\n",
       "      <th>0</th>\n",
       "      <td>Novara</td>\n",
       "      <td>371686</td>\n",
       "      <td>10565.0</td>\n",
       "    </tr>\n",
       "    <tr>\n",
       "      <th>1</th>\n",
       "      <td>Torino</td>\n",
       "      <td>2297917</td>\n",
       "      <td>120124.0</td>\n",
       "    </tr>\n",
       "    <tr>\n",
       "      <th>2</th>\n",
       "      <td>Como</td>\n",
       "      <td>598810</td>\n",
       "      <td>13673.0</td>\n",
       "    </tr>\n",
       "    <tr>\n",
       "      <th>3</th>\n",
       "      <td>Lecco</td>\n",
       "      <td>340814</td>\n",
       "      <td>7530.0</td>\n",
       "    </tr>\n",
       "    <tr>\n",
       "      <th>4</th>\n",
       "      <td>Trento</td>\n",
       "      <td>536237</td>\n",
       "      <td>11652.0</td>\n",
       "    </tr>\n",
       "  </tbody>\n",
       "</table>\n",
       "</div>"
      ],
      "text/plain": [
       "   region  population     crime\n",
       "0  Novara      371686   10565.0\n",
       "1  Torino     2297917  120124.0\n",
       "2    Como      598810   13673.0\n",
       "3   Lecco      340814    7530.0\n",
       "4  Trento      536237   11652.0"
      ]
     },
     "execution_count": 4,
     "metadata": {},
     "output_type": "execute_result"
    }
   ],
   "source": [
    "df_theft.head()"
   ]
  },
  {
   "cell_type": "code",
   "execution_count": 5,
   "id": "e9fab7b0",
   "metadata": {},
   "outputs": [
    {
     "data": {
      "text/html": [
       "<div>\n",
       "<style scoped>\n",
       "    .dataframe tbody tr th:only-of-type {\n",
       "        vertical-align: middle;\n",
       "    }\n",
       "\n",
       "    .dataframe tbody tr th {\n",
       "        vertical-align: top;\n",
       "    }\n",
       "\n",
       "    .dataframe thead th {\n",
       "        text-align: right;\n",
       "    }\n",
       "</style>\n",
       "<table border=\"1\" class=\"dataframe\">\n",
       "  <thead>\n",
       "    <tr style=\"text-align: right;\">\n",
       "      <th></th>\n",
       "      <th>region</th>\n",
       "      <th>population</th>\n",
       "      <th>crime</th>\n",
       "    </tr>\n",
       "  </thead>\n",
       "  <tbody>\n",
       "    <tr>\n",
       "      <th>0</th>\n",
       "      <td>Novara</td>\n",
       "      <td>371686</td>\n",
       "      <td>1942.0</td>\n",
       "    </tr>\n",
       "    <tr>\n",
       "      <th>1</th>\n",
       "      <td>Torino</td>\n",
       "      <td>2297917</td>\n",
       "      <td>16500.0</td>\n",
       "    </tr>\n",
       "    <tr>\n",
       "      <th>2</th>\n",
       "      <td>Como</td>\n",
       "      <td>598810</td>\n",
       "      <td>3768.0</td>\n",
       "    </tr>\n",
       "    <tr>\n",
       "      <th>3</th>\n",
       "      <td>Lecco</td>\n",
       "      <td>340814</td>\n",
       "      <td>2082.0</td>\n",
       "    </tr>\n",
       "    <tr>\n",
       "      <th>4</th>\n",
       "      <td>Trento</td>\n",
       "      <td>536237</td>\n",
       "      <td>1832.0</td>\n",
       "    </tr>\n",
       "  </tbody>\n",
       "</table>\n",
       "</div>"
      ],
      "text/plain": [
       "   region  population    crime\n",
       "0  Novara      371686   1942.0\n",
       "1  Torino     2297917  16500.0\n",
       "2    Como      598810   3768.0\n",
       "3   Lecco      340814   2082.0\n",
       "4  Trento      536237   1832.0"
      ]
     },
     "execution_count": 5,
     "metadata": {},
     "output_type": "execute_result"
    }
   ],
   "source": [
    "df_burglary.head()"
   ]
  },
  {
   "cell_type": "markdown",
   "id": "b42ddde6",
   "metadata": {},
   "source": [
    "Let's export but have the regions' names in pure ASCII to avoid potential issues later."
   ]
  },
  {
   "cell_type": "code",
   "execution_count": 6,
   "id": "40ff0857",
   "metadata": {},
   "outputs": [],
   "source": [
    "import anyascii"
   ]
  },
  {
   "cell_type": "code",
   "execution_count": 7,
   "id": "1706b13e",
   "metadata": {},
   "outputs": [],
   "source": [
    "df_theft[\"region\"] = df_theft.region.apply(anyascii.anyascii)\n",
    "df_burglary[\"region\"] = df_burglary.region.apply(anyascii.anyascii)"
   ]
  },
  {
   "cell_type": "code",
   "execution_count": 8,
   "id": "e052149d",
   "metadata": {},
   "outputs": [
    {
     "data": {
      "text/plain": [
       "(111, 111)"
      ]
     },
     "execution_count": 8,
     "metadata": {},
     "output_type": "execute_result"
    }
   ],
   "source": [
    "len(df_burglary.region), len(df_burglary.region.unique())"
   ]
  },
  {
   "cell_type": "code",
   "execution_count": 9,
   "id": "a3ad486a",
   "metadata": {},
   "outputs": [],
   "source": [
    "df_burglary.to_csv(\"italy_burglary.csv\", index=False)"
   ]
  },
  {
   "cell_type": "code",
   "execution_count": 10,
   "id": "a0d7d945",
   "metadata": {},
   "outputs": [],
   "source": [
    "df_theft.to_csv(\"italy_theft.csv\", index=False)"
   ]
  }
 ],
 "metadata": {
  "kernelspec": {
   "display_name": "Python 3 (ipykernel)",
   "language": "python",
   "name": "python3"
  },
  "language_info": {
   "codemirror_mode": {
    "name": "ipython",
    "version": 3
   },
   "file_extension": ".py",
   "mimetype": "text/x-python",
   "name": "python",
   "nbconvert_exporter": "python",
   "pygments_lexer": "ipython3",
   "version": "3.10.9"
  }
 },
 "nbformat": 4,
 "nbformat_minor": 5
}
